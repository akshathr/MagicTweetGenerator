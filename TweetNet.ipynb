{
 "cells": [
  {
   "cell_type": "markdown",
   "metadata": {},
   "source": [
    "API Key: SweUmsit7q4bITjAHGJbHRlWs\n",
    "API Secret Key: dDpm4VZc48MMUgp5s8JrpdozM1YrKO3PBUKKMeEXTTQAJGCeUx\n",
    "Bearer Token: AAAAAAAAAAAAAAAAAAAAAJmjLAEAAAAAzl9HA9NDExmrahuPmTmxF8XZSEQ%3D2hsAYb5058B25ue4B5XW8NErOtQAlzcp6HQzjTEF7a4t2hY9Mz\n"
   ]
  },
  {
   "cell_type": "markdown",
   "metadata": {},
   "source": [
    "# TwitterAPI Setup"
   ]
  },
  {
   "cell_type": "code",
   "execution_count": 10,
   "metadata": {},
   "outputs": [],
   "source": [
    "import os #collection of operating system interfaces\n",
    "import tweepy as tw #library for TwitterAPI\n",
    "import pandas as pd #data analysis package\n",
    "from fastai.text import *\n",
    "from pandas import DataFrame\n"
   ]
  },
  {
   "cell_type": "code",
   "execution_count": 2,
   "metadata": {},
   "outputs": [],
   "source": [
    "#global to store each key\n",
    "consumer_key= 'SweUmsit7q4bITjAHGJbHRlWs'\n",
    "consumer_secret= 'dDpm4VZc48MMUgp5s8JrpdozM1YrKO3PBUKKMeEXTTQAJGCeUx'\n",
    "access_token= '1273017906281021440-UswJnLXQblHPaFbcH6JqO7UU0f2amL'\n",
    "access_token_secret= '3QBeKVF1cZnApZKfEF3TGA11KxFpi3MykCLMa9X7ZibrW'\n"
   ]
  },
  {
   "cell_type": "code",
   "execution_count": 3,
   "metadata": {},
   "outputs": [],
   "source": [
    "auth = tw.OAuthHandler(consumer_key, consumer_secret) #login info for twitter\n",
    "auth.set_access_token(access_token, access_token_secret)\n",
    "api = tw.API(auth, wait_on_rate_limit=True) #creates instance of TwitterAPI\n"
   ]
  },
  {
   "cell_type": "markdown",
   "metadata": {},
   "source": [
    "# Build Dataset"
   ]
  },
  {
   "cell_type": "code",
   "execution_count": 4,
   "metadata": {},
   "outputs": [],
   "source": [
    "userID = \"MagicJohnson\" #set Twitter user ID\n",
    "user = api.get_user(userID) #returns the user information\n",
    "data = []\n",
    "\n",
    "#get every tweet from Magic Johnson's account\n",
    "raw_tweets = tw.Cursor(api.user_timeline, screen_name=userID, tweet_mode = \"extended\").items()\n",
    "\n",
    "#creates a list of tweets\n",
    "for tweet in raw_tweets:\n",
    "    data.append(tweet.full_text)\n",
    "    "
   ]
  },
  {
   "cell_type": "code",
   "execution_count": 18,
   "metadata": {},
   "outputs": [],
   "source": [
    "df = DataFrame(data,columns=['tweets']) #create df from list"
   ]
  },
  {
   "cell_type": "markdown",
   "metadata": {},
   "source": [
    "# Data Processing"
   ]
  },
  {
   "cell_type": "code",
   "execution_count": 19,
   "metadata": {},
   "outputs": [
    {
     "data": {
      "text/html": [],
      "text/plain": [
       "<IPython.core.display.HTML object>"
      ]
     },
     "metadata": {},
     "output_type": "display_data"
    },
    {
     "data": {
      "text/html": [],
      "text/plain": [
       "<IPython.core.display.HTML object>"
      ]
     },
     "metadata": {},
     "output_type": "display_data"
    },
    {
     "data": {
      "text/html": [
       "<table border=\"1\" class=\"dataframe\">\n",
       "  <thead>\n",
       "    <tr style=\"text-align: right;\">\n",
       "      <th>idx</th>\n",
       "      <th>text</th>\n",
       "    </tr>\n",
       "  </thead>\n",
       "  <tbody>\n",
       "    <tr>\n",
       "      <td>0</td>\n",
       "      <td>xxmaj sending prayers to the entire xxmaj westphal family ! xxbos xxmaj sending my thoughts and prayers to the family of xxup nba xxmaj champion and xxmaj hall of xxmaj famer xxup xxunk xxmaj jones . xxup rip in my friend 🙏 🏾 xxbos xxmaj what a xxunk written article on my sister @lakers owner @jeaniebuss in the xxup xxunk by xxunk 👏 xxunk : / / t.co / xxunk</td>\n",
       "    </tr>\n",
       "    <tr>\n",
       "      <td>1</td>\n",
       "      <td>/ xxunk xxbos xxmaj let ’s continue to educate our communities and loved ones . xxmaj xxunk is key and those living with xxup hiv can live long and healthy lives . xxmaj there is still a lot of work to be done and i will continue to unite in the fight ! xxbos xxmaj while we continue to work xxunk a xxunk , it ’s important to continue to</td>\n",
       "    </tr>\n",
       "    <tr>\n",
       "      <td>2</td>\n",
       "      <td>young women and minorities throughout this country and the world ! xxbos xxmaj cookie and i are so excited for xxmaj vice xxmaj president xxmaj elect @kamalaharris . xxmaj we have been major supporters of her throughout her political career , hosting fundraising events and xxunk her into our home . xxmaj vice xxmaj president xxmaj elect xxmaj harris , has not only xxunk the xxunk in her career ...</td>\n",
       "    </tr>\n",
       "    <tr>\n",
       "      <td>3</td>\n",
       "      <td>- xxmaj thomas ! # xxunk https : / / t.co / xxunk xxbos xxmaj shoutout to xxmaj max xxmaj muncy for xxunk in 2 runs and 2 xxunk ! xxbos xxup rt @dodgers : # xxunk ! \\n \\n  xxup final : # xxmaj dodgers 8 , xxmaj rays 3 https : / / t.co / xxunk xxbos xxmaj cody xxmaj bellinger hit a xxup hr and took</td>\n",
       "    </tr>\n",
       "    <tr>\n",
       "      <td>4</td>\n",
       "      <td>no xxunk , even though i xxunk in the xxunk . xxmaj xxunk i took care of it so now i can receive my ballot ! xxbos xxmaj dodger xxmaj nation , it was a total team effort in tonight ’s 12 - 3 victory over the xxmaj padres . i want to congratulate our xxmaj men in xxmaj blue as we move on to the xxup nlcs against the</td>\n",
       "    </tr>\n",
       "  </tbody>\n",
       "</table>"
      ],
      "text/plain": [
       "<IPython.core.display.HTML object>"
      ]
     },
     "metadata": {},
     "output_type": "display_data"
    }
   ],
   "source": [
    "#\n",
    "df = (TextList.from_df(df, cols='tweets')\n",
    "                .split_by_rand_pct(0.1)\n",
    "               .label_for_lm()  \n",
    "                .databunch(bs=48))\n",
    "\n",
    "df.show_batch()"
   ]
  },
  {
   "cell_type": "code",
   "execution_count": null,
   "metadata": {},
   "outputs": [],
   "source": []
  }
 ],
 "metadata": {
  "kernelspec": {
   "display_name": "Python 3",
   "language": "python",
   "name": "python3"
  },
  "language_info": {
   "codemirror_mode": {
    "name": "ipython",
    "version": 3
   },
   "file_extension": ".py",
   "mimetype": "text/x-python",
   "name": "python",
   "nbconvert_exporter": "python",
   "pygments_lexer": "ipython3",
   "version": "3.6.5"
  }
 },
 "nbformat": 4,
 "nbformat_minor": 2
}
