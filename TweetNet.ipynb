{
 "cells": [
  {
   "cell_type": "markdown",
   "metadata": {},
   "source": [
    "API Key: SweUmsit7q4bITjAHGJbHRlWs\n",
    "API Secret Key: dDpm4VZc48MMUgp5s8JrpdozM1YrKO3PBUKKMeEXTTQAJGCeUx\n",
    "Bearer Token: AAAAAAAAAAAAAAAAAAAAAJmjLAEAAAAAzl9HA9NDExmrahuPmTmxF8XZSEQ%3D2hsAYb5058B25ue4B5XW8NErOtQAlzcp6HQzjTEF7a4t2hY9Mz\n"
   ]
  },
  {
   "cell_type": "markdown",
   "metadata": {},
   "source": [
    "# TwitterAPI Setup"
   ]
  },
  {
   "cell_type": "code",
   "execution_count": 2,
   "metadata": {},
   "outputs": [],
   "source": [
    "import os #collection of operating system interfaces\n",
    "import tweepy as tw #library for TwitterAPI\n",
    "import pandas as pd #data analysis package\n"
   ]
  },
  {
   "cell_type": "code",
   "execution_count": 3,
   "metadata": {},
   "outputs": [],
   "source": [
    "#global to store each key\n",
    "consumer_key= 'SweUmsit7q4bITjAHGJbHRlWs'\n",
    "consumer_secret= 'dDpm4VZc48MMUgp5s8JrpdozM1YrKO3PBUKKMeEXTTQAJGCeUx'\n",
    "access_token= '1273017906281021440-UswJnLXQblHPaFbcH6JqO7UU0f2amL'\n",
    "access_token_secret= '3QBeKVF1cZnApZKfEF3TGA11KxFpi3MykCLMa9X7ZibrW'\n"
   ]
  },
  {
   "cell_type": "code",
   "execution_count": 5,
   "metadata": {},
   "outputs": [],
   "source": [
    "auth = tw.OAuthHandler(consumer_key, consumer_secret) #login info for twitter\n",
    "auth.set_access_token(access_token, access_token_secret)\n",
    "api = tw.API(auth, wait_on_rate_limit=True) #creates instance of TwitterAPI\n"
   ]
  },
  {
   "cell_type": "markdown",
   "metadata": {},
   "source": [
    "# Build Dataset"
   ]
  },
  {
   "cell_type": "code",
   "execution_count": 37,
   "metadata": {},
   "outputs": [],
   "source": [
    "userID = \"MagicJohnson\" #set Twtiter user ID\n",
    "user = api.get_user(userID) #returns the user information\n",
    "tweets = []\n",
    "\n",
    "#we get every tweet from Magic Johnson's account\n",
    "raw_tweets = tw.Cursor(api.user_timeline, screen_name=userID, tweet_mode = \"extended\").items()\n",
    "\n",
    "#creates a list of tweets\n",
    "for tweet in raw_tweets:\n",
    "    tweets.append(tweet.full_text)\n",
    "    "
   ]
  },
  {
   "cell_type": "code",
   "execution_count": 39,
   "metadata": {},
   "outputs": [
    {
     "name": "stdout",
     "output_type": "stream",
     "text": [
      "<class 'list'>\n"
     ]
    }
   ],
   "source": []
  },
  {
   "cell_type": "code",
   "execution_count": 30,
   "metadata": {},
   "outputs": [
    {
     "name": "stdout",
     "output_type": "stream",
     "text": [
      "18\n"
     ]
    }
   ],
   "source": []
  },
  {
   "cell_type": "code",
   "execution_count": null,
   "metadata": {},
   "outputs": [],
   "source": []
  }
 ],
 "metadata": {
  "kernelspec": {
   "display_name": "Python 3",
   "language": "python",
   "name": "python3"
  },
  "language_info": {
   "codemirror_mode": {
    "name": "ipython",
    "version": 3
   },
   "file_extension": ".py",
   "mimetype": "text/x-python",
   "name": "python",
   "nbconvert_exporter": "python",
   "pygments_lexer": "ipython3",
   "version": "3.6.5"
  }
 },
 "nbformat": 4,
 "nbformat_minor": 2
}
