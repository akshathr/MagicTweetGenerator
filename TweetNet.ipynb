{
 "cells": [
  {
   "cell_type": "markdown",
   "metadata": {},
   "source": [
    "API Key: SweUmsit7q4bITjAHGJbHRlWs\n",
    "API Secret Key: dDpm4VZc48MMUgp5s8JrpdozM1YrKO3PBUKKMeEXTTQAJGCeUx\n",
    "Bearer Token: AAAAAAAAAAAAAAAAAAAAAJmjLAEAAAAAzl9HA9NDExmrahuPmTmxF8XZSEQ%3D2hsAYb5058B25ue4B5XW8NErOtQAlzcp6HQzjTEF7a4t2hY9Mz\n"
   ]
  },
  {
   "cell_type": "markdown",
   "metadata": {},
   "source": [
    "# TwitterAPI Setup"
   ]
  },
  {
   "cell_type": "code",
   "execution_count": 10,
   "metadata": {},
   "outputs": [],
   "source": [
    "import os #collection of operating system interfaces\n",
    "import tweepy as tw #library for TwitterAPI\n",
    "import pandas as pd #data analysis package\n",
    "from fastai.text import *\n",
    "from pandas import DataFrame\n"
   ]
  },
  {
   "cell_type": "code",
   "execution_count": 2,
   "metadata": {},
   "outputs": [],
   "source": [
    "#global to store each key\n",
    "consumer_key= 'SweUmsit7q4bITjAHGJbHRlWs'\n",
    "consumer_secret= 'dDpm4VZc48MMUgp5s8JrpdozM1YrKO3PBUKKMeEXTTQAJGCeUx'\n",
    "access_token= '1273017906281021440-UswJnLXQblHPaFbcH6JqO7UU0f2amL'\n",
    "access_token_secret= '3QBeKVF1cZnApZKfEF3TGA11KxFpi3MykCLMa9X7ZibrW'\n"
   ]
  },
  {
   "cell_type": "code",
   "execution_count": 3,
   "metadata": {},
   "outputs": [],
   "source": [
    "auth = tw.OAuthHandler(consumer_key, consumer_secret) #login info for twitter\n",
    "auth.set_access_token(access_token, access_token_secret)\n",
    "api = tw.API(auth, wait_on_rate_limit=True) #creates instance of TwitterAPI\n"
   ]
  },
  {
   "cell_type": "markdown",
   "metadata": {},
   "source": [
    "# Build Dataset"
   ]
  },
  {
   "cell_type": "code",
   "execution_count": 4,
   "metadata": {},
   "outputs": [],
   "source": [
    "userID = \"MagicJohnson\" #set Twitter user ID\n",
    "user = api.get_user(userID) #returns the user information\n",
    "data = []\n",
    "\n",
    "#get every tweet from Magic Johnson's account\n",
    "raw_tweets = tw.Cursor(api.user_timeline, screen_name=userID, tweet_mode = \"extended\").items()\n",
    "\n",
    "#creates a list of tweets\n",
    "for tweet in raw_tweets:\n",
    "    data.append(tweet.full_text)\n",
    "    "
   ]
  },
  {
   "cell_type": "code",
   "execution_count": 18,
   "metadata": {},
   "outputs": [],
   "source": [
    "df = DataFrame(data,columns=['tweets']) #create df from list"
   ]
  },
  {
   "cell_type": "markdown",
   "metadata": {},
   "source": [
    "# Data Processing"
   ]
  },
  {
   "cell_type": "code",
   "execution_count": 19,
   "metadata": {},
   "outputs": [
    {
     "data": {
      "text/html": [],
      "text/plain": [
       "<IPython.core.display.HTML object>"
      ]
     },
     "metadata": {},
     "output_type": "display_data"
    },
    {
     "data": {
      "text/html": [],
      "text/plain": [
       "<IPython.core.display.HTML object>"
      ]
     },
     "metadata": {},
     "output_type": "display_data"
    },
    {
     "data": {
      "text/html": [
       "<table border=\"1\" class=\"dataframe\">\n",
       "  <thead>\n",
       "    <tr style=\"text-align: right;\">\n",
       "      <th>idx</th>\n",
       "      <th>text</th>\n",
       "    </tr>\n",
       "  </thead>\n",
       "  <tbody>\n",
       "    <tr>\n",
       "      <td>0</td>\n",
       "      <td>xxmaj sending prayers to the entire xxmaj westphal family ! xxbos xxmaj sending my thoughts and prayers to the family of xxup nba xxmaj champion and xxmaj hall of xxmaj famer xxup xxunk xxmaj jones . xxup rip in my friend 🙏 🏾 xxbos xxmaj what a xxunk written article on my sister @lakers owner @jeaniebuss in the xxup xxunk by xxunk 👏 xxunk : / / t.co / xxunk</td>\n",
       "    </tr>\n",
       "    <tr>\n",
       "      <td>1</td>\n",
       "      <td>/ xxunk xxbos xxmaj let ’s continue to educate our communities and loved ones . xxmaj xxunk is key and those living with xxup hiv can live long and healthy lives . xxmaj there is still a lot of work to be done and i will continue to unite in the fight ! xxbos xxmaj while we continue to work xxunk a xxunk , it ’s important to continue to</td>\n",
       "    </tr>\n",
       "    <tr>\n",
       "      <td>2</td>\n",
       "      <td>young women and minorities throughout this country and the world ! xxbos xxmaj cookie and i are so excited for xxmaj vice xxmaj president xxmaj elect @kamalaharris . xxmaj we have been major supporters of her throughout her political career , hosting fundraising events and xxunk her into our home . xxmaj vice xxmaj president xxmaj elect xxmaj harris , has not only xxunk the xxunk in her career ...</td>\n",
       "    </tr>\n",
       "    <tr>\n",
       "      <td>3</td>\n",
       "      <td>- xxmaj thomas ! # xxunk https : / / t.co / xxunk xxbos xxmaj shoutout to xxmaj max xxmaj muncy for xxunk in 2 runs and 2 xxunk ! xxbos xxup rt @dodgers : # xxunk ! \\n \\n  xxup final : # xxmaj dodgers 8 , xxmaj rays 3 https : / / t.co / xxunk xxbos xxmaj cody xxmaj bellinger hit a xxup hr and took</td>\n",
       "    </tr>\n",
       "    <tr>\n",
       "      <td>4</td>\n",
       "      <td>no xxunk , even though i xxunk in the xxunk . xxmaj xxunk i took care of it so now i can receive my ballot ! xxbos xxmaj dodger xxmaj nation , it was a total team effort in tonight ’s 12 - 3 victory over the xxmaj padres . i want to congratulate our xxmaj men in xxmaj blue as we move on to the xxup nlcs against the</td>\n",
       "    </tr>\n",
       "  </tbody>\n",
       "</table>"
      ],
      "text/plain": [
       "<IPython.core.display.HTML object>"
      ]
     },
     "metadata": {},
     "output_type": "display_data"
    }
   ],
   "source": [
    "#Here, we split the data (10%) and tokenize with a bunch size of 32. This is a micro-bunch that \n",
    "#can lead to faster processing of the tweets\n",
    "df = (TextList.from_df(df, cols='tweets')\n",
    "                .split_by_rand_pct(0.1)\n",
    "               .label_for_lm()  \n",
    "                .databunch(bs=48))\n",
    "\n",
    "df.show_batch()"
   ]
  },
  {
   "cell_type": "code",
   "execution_count": 21,
   "metadata": {},
   "outputs": [
    {
     "data": {
      "text/plain": [
       "['xxunk',\n",
       " 'xxpad',\n",
       " 'xxbos',\n",
       " 'xxeos',\n",
       " 'xxfld',\n",
       " 'xxmaj',\n",
       " 'xxup',\n",
       " 'xxrep',\n",
       " 'xxwrep',\n",
       " '/',\n",
       " 'the',\n",
       " ',',\n",
       " '.',\n",
       " 'and',\n",
       " '!']"
      ]
     },
     "execution_count": 21,
     "metadata": {},
     "output_type": "execute_result"
    }
   ],
   "source": [
    "df.vocab.itos[:20] #20 most commonly used dictionary items"
   ]
  },
  {
   "cell_type": "code",
   "execution_count": 25,
   "metadata": {},
   "outputs": [
    {
     "name": "stdout",
     "output_type": "stream",
     "text": [
      "Downloading https://s3.amazonaws.com/fast-ai-modelzoo/wt103-fwd.tgz\n"
     ]
    },
    {
     "data": {
      "text/html": [],
      "text/plain": [
       "<IPython.core.display.HTML object>"
      ]
     },
     "metadata": {},
     "output_type": "display_data"
    },
    {
     "data": {
      "text/html": [
       "\n",
       "    <div>\n",
       "        <style>\n",
       "            /* Turns off some styling */\n",
       "            progress {\n",
       "                /* gets rid of default border in Firefox and Opera. */\n",
       "                border: none;\n",
       "                /* Needs to be in here for Safari polyfill so background images work as expected. */\n",
       "                background-size: auto;\n",
       "            }\n",
       "            .progress-bar-interrupted, .progress-bar-interrupted::-webkit-progress-bar {\n",
       "                background: #F44336;\n",
       "            }\n",
       "        </style>\n",
       "      <progress value='3' class='' max='4' style='width:300px; height:20px; vertical-align: middle;'></progress>\n",
       "      75.00% [3/4 12:10<04:03]\n",
       "    </div>\n",
       "    \n",
       "<table border=\"1\" class=\"dataframe\">\n",
       "  <thead>\n",
       "    <tr style=\"text-align: left;\">\n",
       "      <th>epoch</th>\n",
       "      <th>train_loss</th>\n",
       "      <th>valid_loss</th>\n",
       "      <th>accuracy</th>\n",
       "      <th>time</th>\n",
       "    </tr>\n",
       "  </thead>\n",
       "  <tbody>\n",
       "    <tr>\n",
       "      <td>0</td>\n",
       "      <td>5.065445</td>\n",
       "      <td>#na#</td>\n",
       "      <td>03:40</td>\n",
       "    </tr>\n",
       "    <tr>\n",
       "      <td>1</td>\n",
       "      <td>4.979132</td>\n",
       "      <td>#na#</td>\n",
       "      <td>04:11</td>\n",
       "    </tr>\n",
       "    <tr>\n",
       "      <td>2</td>\n",
       "      <td>4.531269</td>\n",
       "      <td>#na#</td>\n",
       "      <td>04:18</td>\n",
       "    </tr>\n",
       "  </tbody>\n",
       "</table><p>\n",
       "\n",
       "    <div>\n",
       "        <style>\n",
       "            /* Turns off some styling */\n",
       "            progress {\n",
       "                /* gets rid of default border in Firefox and Opera. */\n",
       "                border: none;\n",
       "                /* Needs to be in here for Safari polyfill so background images work as expected. */\n",
       "                background-size: auto;\n",
       "            }\n",
       "            .progress-bar-interrupted, .progress-bar-interrupted::-webkit-progress-bar {\n",
       "                background: #F44336;\n",
       "            }\n",
       "        </style>\n",
       "      <progress value='9' class='' max='30' style='width:300px; height:20px; vertical-align: middle;'></progress>\n",
       "      30.00% [9/30 01:27<03:23 7.7298]\n",
       "    </div>\n",
       "    "
      ],
      "text/plain": [
       "<IPython.core.display.HTML object>"
      ]
     },
     "metadata": {},
     "output_type": "display_data"
    },
    {
     "name": "stdout",
     "output_type": "stream",
     "text": [
      "LR Finder is complete, type {learner_name}.recorder.plot() to see the graph.\n"
     ]
    },
    {
     "data": {
      "image/png": "[encoded data removed]",
      "text/plain": [
       "<Figure size 432x288 with 1 Axes>"
      ]
     },
     "metadata": {},
     "output_type": "display_data"
    }
   ],
   "source": [
    "learn = language_model_learner(df,arch = AWD_LSTM, pretrained = True, drop_mult=0.3)\n",
    "learn.lr_find()\n",
    "learn.recorder.plot(skip_end=15)"
   ]
  },
  {
   "cell_type": "code",
   "execution_count": 26,
   "metadata": {},
   "outputs": [
    {
     "data": {
      "text/html": [
       "<table border=\"1\" class=\"dataframe\">\n",
       "  <thead>\n",
       "    <tr style=\"text-align: left;\">\n",
       "      <th>epoch</th>\n",
       "      <th>train_loss</th>\n",
       "      <th>valid_loss</th>\n",
       "      <th>accuracy</th>\n",
       "      <th>time</th>\n",
       "    </tr>\n",
       "  </thead>\n",
       "  <tbody>\n",
       "    <tr>\n",
       "      <td>0</td>\n",
       "      <td>4.801915</td>\n",
       "      <td>4.216535</td>\n",
       "      <td>0.288170</td>\n",
       "      <td>04:03</td>\n",
       "    </tr>\n",
       "    <tr>\n",
       "      <td>1</td>\n",
       "      <td>4.146416</td>\n",
       "      <td>3.267071</td>\n",
       "      <td>0.380432</td>\n",
       "      <td>04:25</td>\n",
       "    </tr>\n",
       "    <tr>\n",
       "      <td>2</td>\n",
       "      <td>3.572851</td>\n",
       "      <td>2.928928</td>\n",
       "      <td>0.402455</td>\n",
       "      <td>04:39</td>\n",
       "    </tr>\n",
       "    <tr>\n",
       "      <td>3</td>\n",
       "      <td>3.139931</td>\n",
       "      <td>2.809767</td>\n",
       "      <td>0.408557</td>\n",
       "      <td>04:35</td>\n",
       "    </tr>\n",
       "    <tr>\n",
       "      <td>4</td>\n",
       "      <td>2.818824</td>\n",
       "      <td>2.764635</td>\n",
       "      <td>0.412798</td>\n",
       "      <td>04:47</td>\n",
       "    </tr>\n",
       "    <tr>\n",
       "      <td>5</td>\n",
       "      <td>2.582640</td>\n",
       "      <td>2.753370</td>\n",
       "      <td>0.415848</td>\n",
       "      <td>05:17</td>\n",
       "    </tr>\n",
       "    <tr>\n",
       "      <td>6</td>\n",
       "      <td>2.394820</td>\n",
       "      <td>2.750673</td>\n",
       "      <td>0.417113</td>\n",
       "      <td>04:45</td>\n",
       "    </tr>\n",
       "    <tr>\n",
       "      <td>7</td>\n",
       "      <td>2.249310</td>\n",
       "      <td>2.751622</td>\n",
       "      <td>0.416220</td>\n",
       "      <td>04:45</td>\n",
       "    </tr>\n",
       "    <tr>\n",
       "      <td>8</td>\n",
       "      <td>2.152661</td>\n",
       "      <td>2.753594</td>\n",
       "      <td>0.416667</td>\n",
       "      <td>05:00</td>\n",
       "    </tr>\n",
       "    <tr>\n",
       "      <td>9</td>\n",
       "      <td>2.100501</td>\n",
       "      <td>2.750956</td>\n",
       "      <td>0.416667</td>\n",
       "      <td>05:00</td>\n",
       "    </tr>\n",
       "  </tbody>\n",
       "</table>"
      ],
      "text/plain": [
       "<IPython.core.display.HTML object>"
      ]
     },
     "metadata": {},
     "output_type": "display_data"
    }
   ],
   "source": [
    "learn.fit_one_cycle(10, 1e-2, moms=(0.8,0.7))"
   ]
  },
  {
   "cell_type": "code",
   "execution_count": 27,
   "metadata": {},
   "outputs": [
    {
     "data": {
      "text/plain": [
       "LanguageLearner(data=TextLMDataBunch;\n",
       "\n",
       "Train: LabelList (2888 items)\n",
       "x: LMTextList\n",
       "xxbos a career high xxunk points for xxmaj steph xxmaj curry ! xxup still xxunk he ’s the greatest xxunk we ’ve ever seen and a xxup mvp candidate along with lebron , xxup ad , xxup kd , xxmaj kyrie , xxmaj luka xxmaj doncic , xxmaj kawhi , and xxmaj giannis !,xxbos xxup rip to xxup nba xxmaj hall of xxmaj famer xxmaj paul xxmaj westphal . xxmaj sending prayers to the entire xxmaj westphal family !,xxbos xxmaj sending my thoughts and prayers to the family of xxup nba xxmaj champion and xxmaj hall of xxmaj famer xxup xxunk xxmaj jones . xxup rip in my friend 🙏 🏾,xxbos xxmaj what a xxunk written article on my sister @lakers owner @jeaniebuss in the xxup xxunk by xxunk 👏 xxunk : / / t.co / xxunk,xxbos xxmaj have a magical xxunk and xxmaj happy xxmaj new xxmaj year from the xxmaj johnson family ! ! ! https : / / t.co / xxunk\n",
       "y: LMLabelList\n",
       ",,,,\n",
       "Path: .;\n",
       "\n",
       "Valid: LabelList (320 items)\n",
       "x: LMTextList\n",
       "xxbos xxmaj tonight in xxmaj xxunk was life changing for me ! xxmaj the audience at xxmaj the xxmaj one xxmaj forum was made of 1000 people that have xxunk lives . i look forward to helping xxup ceo of xxmaj be the xxmaj match xxmaj dr. xxmaj xxunk xxmaj xxunk xxunk more xxmaj african - xxmaj american xxunk ! https : / / t.co / xxunk,xxbos xxup rt xxup xxunk : xxmaj join @cjbycookie tomorrow xxunk xxup nyc at 5 pm ! https : / / t.co / xxunk,xxbos xxmaj congratulations to all of the award winners and their families !,xxbos xxmaj next month , you could win a xxunk to xxmaj san xxmaj antonio to play on xxup my team in a celebrity basketball game . xxmaj do n't miss your last chance to join the fun – xxunk xxunk is xxmaj march 2 . xxmaj enter for your chance to win . xxmaj for full rules : https : / / t.co / xxunk \n",
       "  # xxunk https : / / t.co / xxunk,xxbos xxmaj thank you to xxunk for helping make @cjbycookie 's birthday special !\n",
       "y: LMLabelList\n",
       ",,,,\n",
       "Path: .;\n",
       "\n",
       "Test: None, model=SequentialRNN(\n",
       "  (0): AWD_LSTM(\n",
       "    (encoder): Embedding(2640, 400, padding_idx=1)\n",
       "    (encoder_dp): EmbeddingDropout(\n",
       "      (emb): Embedding(2640, 400, padding_idx=1)\n",
       "    )\n",
       "    (rnns): ModuleList(\n",
       "      (0): WeightDropout(\n",
       "        (module): LSTM(400, 1152, batch_first=True)\n",
       "      )\n",
       "      (1): WeightDropout(\n",
       "        (module): LSTM(1152, 1152, batch_first=True)\n",
       "      )\n",
       "      (2): WeightDropout(\n",
       "        (module): LSTM(1152, 400, batch_first=True)\n",
       "      )\n",
       "    )\n",
       "    (input_dp): RNNDropout()\n",
       "    (hidden_dps): ModuleList(\n",
       "      (0): RNNDropout()\n",
       "      (1): RNNDropout()\n",
       "      (2): RNNDropout()\n",
       "    )\n",
       "  )\n",
       "  (1): LinearDecoder(\n",
       "    (decoder): Linear(in_features=400, out_features=2640, bias=True)\n",
       "    (output_dp): RNNDropout()\n",
       "  )\n",
       "), opt_func=functools.partial(<class 'torch.optim.adam.Adam'>, betas=(0.9, 0.99)), loss_func=FlattenedLoss of CrossEntropyLoss(), metrics=[<function accuracy at 0x0000027B129238C8>], true_wd=True, bn_wd=True, wd=0.01, train_bn=True, path=WindowsPath('.'), model_dir='models', callback_fns=[functools.partial(<class 'fastai.basic_train.Recorder'>, add_time=True, silent=False)], callbacks=[RNNTrainer\n",
       "learn: LanguageLearner(data=TextLMDataBunch;\n",
       "\n",
       "Train: LabelList (2888 items)\n",
       "x: LMTextList\n",
       "xxbos a career high xxunk points for xxmaj steph xxmaj curry ! xxup still xxunk he ’s the greatest xxunk we ’ve ever seen and a xxup mvp candidate along with lebron , xxup ad , xxup kd , xxmaj kyrie , xxmaj luka xxmaj doncic , xxmaj kawhi , and xxmaj giannis !,xxbos xxup rip to xxup nba xxmaj hall of xxmaj famer xxmaj paul xxmaj westphal . xxmaj sending prayers to the entire xxmaj westphal family !,xxbos xxmaj sending my thoughts and prayers to the family of xxup nba xxmaj champion and xxmaj hall of xxmaj famer xxup xxunk xxmaj jones . xxup rip in my friend 🙏 🏾,xxbos xxmaj what a xxunk written article on my sister @lakers owner @jeaniebuss in the xxup xxunk by xxunk 👏 xxunk : / / t.co / xxunk,xxbos xxmaj have a magical xxunk and xxmaj happy xxmaj new xxmaj year from the xxmaj johnson family ! ! ! https : / / t.co / xxunk\n",
       "y: LMLabelList\n",
       ",,,,\n",
       "Path: .;\n",
       "\n",
       "Valid: LabelList (320 items)\n",
       "x: LMTextList\n",
       "xxbos xxmaj tonight in xxmaj xxunk was life changing for me ! xxmaj the audience at xxmaj the xxmaj one xxmaj forum was made of 1000 people that have xxunk lives . i look forward to helping xxup ceo of xxmaj be the xxmaj match xxmaj dr. xxmaj xxunk xxmaj xxunk xxunk more xxmaj african - xxmaj american xxunk ! https : / / t.co / xxunk,xxbos xxup rt xxup xxunk : xxmaj join @cjbycookie tomorrow xxunk xxup nyc at 5 pm ! https : / / t.co / xxunk,xxbos xxmaj congratulations to all of the award winners and their families !,xxbos xxmaj next month , you could win a xxunk to xxmaj san xxmaj antonio to play on xxup my team in a celebrity basketball game . xxmaj do n't miss your last chance to join the fun – xxunk xxunk is xxmaj march 2 . xxmaj enter for your chance to win . xxmaj for full rules : https : / / t.co / xxunk \n",
       "  # xxunk https : / / t.co / xxunk,xxbos xxmaj thank you to xxunk for helping make @cjbycookie 's birthday special !\n",
       "y: LMLabelList\n",
       ",,,,\n",
       "Path: .;\n",
       "\n",
       "Test: None, model=SequentialRNN(\n",
       "  (0): AWD_LSTM(\n",
       "    (encoder): Embedding(2640, 400, padding_idx=1)\n",
       "    (encoder_dp): EmbeddingDropout(\n",
       "      (emb): Embedding(2640, 400, padding_idx=1)\n",
       "    )\n",
       "    (rnns): ModuleList(\n",
       "      (0): WeightDropout(\n",
       "        (module): LSTM(400, 1152, batch_first=True)\n",
       "      )\n",
       "      (1): WeightDropout(\n",
       "        (module): LSTM(1152, 1152, batch_first=True)\n",
       "      )\n",
       "      (2): WeightDropout(\n",
       "        (module): LSTM(1152, 400, batch_first=True)\n",
       "      )\n",
       "    )\n",
       "    (input_dp): RNNDropout()\n",
       "    (hidden_dps): ModuleList(\n",
       "      (0): RNNDropout()\n",
       "      (1): RNNDropout()\n",
       "      (2): RNNDropout()\n",
       "    )\n",
       "  )\n",
       "  (1): LinearDecoder(\n",
       "    (decoder): Linear(in_features=400, out_features=2640, bias=True)\n",
       "    (output_dp): RNNDropout()\n",
       "  )\n",
       "), opt_func=functools.partial(<class 'torch.optim.adam.Adam'>, betas=(0.9, 0.99)), loss_func=FlattenedLoss of CrossEntropyLoss(), metrics=[<function accuracy at 0x0000027B129238C8>], true_wd=True, bn_wd=True, wd=0.01, train_bn=True, path=WindowsPath('.'), model_dir='models', callback_fns=[functools.partial(<class 'fastai.basic_train.Recorder'>, add_time=True, silent=False)], callbacks=[...], layer_groups=[Sequential(\n",
       "  (0): WeightDropout(\n",
       "    (module): LSTM(400, 1152, batch_first=True)\n",
       "  )\n",
       "  (1): RNNDropout()\n",
       "), Sequential(\n",
       "  (0): WeightDropout(\n",
       "    (module): LSTM(1152, 1152, batch_first=True)\n",
       "  )\n",
       "  (1): RNNDropout()\n",
       "), Sequential(\n",
       "  (0): WeightDropout(\n",
       "    (module): LSTM(1152, 400, batch_first=True)\n",
       "  )\n",
       "  (1): RNNDropout()\n",
       "), Sequential(\n",
       "  (0): Embedding(2640, 400, padding_idx=1)\n",
       "  (1): EmbeddingDropout(\n",
       "    (emb): Embedding(2640, 400, padding_idx=1)\n",
       "  )\n",
       "  (2): LinearDecoder(\n",
       "    (decoder): Linear(in_features=400, out_features=2640, bias=True)\n",
       "    (output_dp): RNNDropout()\n",
       "  )\n",
       ")], add_time=True, silent=False)\n",
       "alpha: 2.0\n",
       "beta: 1.0], layer_groups=[Sequential(\n",
       "  (0): WeightDropout(\n",
       "    (module): LSTM(400, 1152, batch_first=True)\n",
       "  )\n",
       "  (1): RNNDropout()\n",
       "), Sequential(\n",
       "  (0): WeightDropout(\n",
       "    (module): LSTM(1152, 1152, batch_first=True)\n",
       "  )\n",
       "  (1): RNNDropout()\n",
       "), Sequential(\n",
       "  (0): WeightDropout(\n",
       "    (module): LSTM(1152, 400, batch_first=True)\n",
       "  )\n",
       "  (1): RNNDropout()\n",
       "), Sequential(\n",
       "  (0): Embedding(2640, 400, padding_idx=1)\n",
       "  (1): EmbeddingDropout(\n",
       "    (emb): Embedding(2640, 400, padding_idx=1)\n",
       "  )\n",
       "  (2): LinearDecoder(\n",
       "    (decoder): Linear(in_features=400, out_features=2640, bias=True)\n",
       "    (output_dp): RNNDropout()\n",
       "  )\n",
       ")], add_time=True, silent=False)"
      ]
     },
     "execution_count": 27,
     "metadata": {},
     "output_type": "execute_result"
    }
   ],
   "source": [
    "learn.save('tweet_head')\n",
    "learn.load('tweet_head')"
   ]
  },
  {
   "cell_type": "code",
   "execution_count": 28,
   "metadata": {},
   "outputs": [
    {
     "data": {
      "text/html": [
       "<table border=\"1\" class=\"dataframe\">\n",
       "  <thead>\n",
       "    <tr style=\"text-align: left;\">\n",
       "      <th>epoch</th>\n",
       "      <th>train_loss</th>\n",
       "      <th>valid_loss</th>\n",
       "      <th>accuracy</th>\n",
       "      <th>time</th>\n",
       "    </tr>\n",
       "  </thead>\n",
       "  <tbody>\n",
       "    <tr>\n",
       "      <td>0</td>\n",
       "      <td>2.000010</td>\n",
       "      <td>2.754928</td>\n",
       "      <td>0.417113</td>\n",
       "      <td>03:56</td>\n",
       "    </tr>\n",
       "    <tr>\n",
       "      <td>1</td>\n",
       "      <td>2.004954</td>\n",
       "      <td>2.755809</td>\n",
       "      <td>0.417857</td>\n",
       "      <td>04:19</td>\n",
       "    </tr>\n",
       "    <tr>\n",
       "      <td>2</td>\n",
       "      <td>2.003343</td>\n",
       "      <td>2.751044</td>\n",
       "      <td>0.415625</td>\n",
       "      <td>04:27</td>\n",
       "    </tr>\n",
       "    <tr>\n",
       "      <td>3</td>\n",
       "      <td>2.000515</td>\n",
       "      <td>2.753527</td>\n",
       "      <td>0.416443</td>\n",
       "      <td>04:27</td>\n",
       "    </tr>\n",
       "    <tr>\n",
       "      <td>4</td>\n",
       "      <td>1.985585</td>\n",
       "      <td>2.758797</td>\n",
       "      <td>0.415997</td>\n",
       "      <td>06:36</td>\n",
       "    </tr>\n",
       "  </tbody>\n",
       "</table>"
      ],
      "text/plain": [
       "<IPython.core.display.HTML object>"
      ]
     },
     "metadata": {},
     "output_type": "display_data"
    }
   ],
   "source": [
    "learn.fit_one_cycle(5, 1e-3, moms=(0.8,0.7))"
   ]
  },
  {
   "cell_type": "code",
   "execution_count": 29,
   "metadata": {},
   "outputs": [
    {
     "data": {
      "text/plain": [
       "LanguageLearner(data=TextLMDataBunch;\n",
       "\n",
       "Train: LabelList (2888 items)\n",
       "x: LMTextList\n",
       "xxbos a career high xxunk points for xxmaj steph xxmaj curry ! xxup still xxunk he ’s the greatest xxunk we ’ve ever seen and a xxup mvp candidate along with lebron , xxup ad , xxup kd , xxmaj kyrie , xxmaj luka xxmaj doncic , xxmaj kawhi , and xxmaj giannis !,xxbos xxup rip to xxup nba xxmaj hall of xxmaj famer xxmaj paul xxmaj westphal . xxmaj sending prayers to the entire xxmaj westphal family !,xxbos xxmaj sending my thoughts and prayers to the family of xxup nba xxmaj champion and xxmaj hall of xxmaj famer xxup xxunk xxmaj jones . xxup rip in my friend 🙏 🏾,xxbos xxmaj what a xxunk written article on my sister @lakers owner @jeaniebuss in the xxup xxunk by xxunk 👏 xxunk : / / t.co / xxunk,xxbos xxmaj have a magical xxunk and xxmaj happy xxmaj new xxmaj year from the xxmaj johnson family ! ! ! https : / / t.co / xxunk\n",
       "y: LMLabelList\n",
       ",,,,\n",
       "Path: .;\n",
       "\n",
       "Valid: LabelList (320 items)\n",
       "x: LMTextList\n",
       "xxbos xxmaj tonight in xxmaj xxunk was life changing for me ! xxmaj the audience at xxmaj the xxmaj one xxmaj forum was made of 1000 people that have xxunk lives . i look forward to helping xxup ceo of xxmaj be the xxmaj match xxmaj dr. xxmaj xxunk xxmaj xxunk xxunk more xxmaj african - xxmaj american xxunk ! https : / / t.co / xxunk,xxbos xxup rt xxup xxunk : xxmaj join @cjbycookie tomorrow xxunk xxup nyc at 5 pm ! https : / / t.co / xxunk,xxbos xxmaj congratulations to all of the award winners and their families !,xxbos xxmaj next month , you could win a xxunk to xxmaj san xxmaj antonio to play on xxup my team in a celebrity basketball game . xxmaj do n't miss your last chance to join the fun – xxunk xxunk is xxmaj march 2 . xxmaj enter for your chance to win . xxmaj for full rules : https : / / t.co / xxunk \n",
       "  # xxunk https : / / t.co / xxunk,xxbos xxmaj thank you to xxunk for helping make @cjbycookie 's birthday special !\n",
       "y: LMLabelList\n",
       ",,,,\n",
       "Path: .;\n",
       "\n",
       "Test: None, model=SequentialRNN(\n",
       "  (0): AWD_LSTM(\n",
       "    (encoder): Embedding(2640, 400, padding_idx=1)\n",
       "    (encoder_dp): EmbeddingDropout(\n",
       "      (emb): Embedding(2640, 400, padding_idx=1)\n",
       "    )\n",
       "    (rnns): ModuleList(\n",
       "      (0): WeightDropout(\n",
       "        (module): LSTM(400, 1152, batch_first=True)\n",
       "      )\n",
       "      (1): WeightDropout(\n",
       "        (module): LSTM(1152, 1152, batch_first=True)\n",
       "      )\n",
       "      (2): WeightDropout(\n",
       "        (module): LSTM(1152, 400, batch_first=True)\n",
       "      )\n",
       "    )\n",
       "    (input_dp): RNNDropout()\n",
       "    (hidden_dps): ModuleList(\n",
       "      (0): RNNDropout()\n",
       "      (1): RNNDropout()\n",
       "      (2): RNNDropout()\n",
       "    )\n",
       "  )\n",
       "  (1): LinearDecoder(\n",
       "    (decoder): Linear(in_features=400, out_features=2640, bias=True)\n",
       "    (output_dp): RNNDropout()\n",
       "  )\n",
       "), opt_func=functools.partial(<class 'torch.optim.adam.Adam'>, betas=(0.9, 0.99)), loss_func=FlattenedLoss of CrossEntropyLoss(), metrics=[<function accuracy at 0x0000027B129238C8>], true_wd=True, bn_wd=True, wd=0.01, train_bn=True, path=WindowsPath('.'), model_dir='models', callback_fns=[functools.partial(<class 'fastai.basic_train.Recorder'>, add_time=True, silent=False)], callbacks=[RNNTrainer\n",
       "learn: LanguageLearner(data=TextLMDataBunch;\n",
       "\n",
       "Train: LabelList (2888 items)\n",
       "x: LMTextList\n",
       "xxbos a career high xxunk points for xxmaj steph xxmaj curry ! xxup still xxunk he ’s the greatest xxunk we ’ve ever seen and a xxup mvp candidate along with lebron , xxup ad , xxup kd , xxmaj kyrie , xxmaj luka xxmaj doncic , xxmaj kawhi , and xxmaj giannis !,xxbos xxup rip to xxup nba xxmaj hall of xxmaj famer xxmaj paul xxmaj westphal . xxmaj sending prayers to the entire xxmaj westphal family !,xxbos xxmaj sending my thoughts and prayers to the family of xxup nba xxmaj champion and xxmaj hall of xxmaj famer xxup xxunk xxmaj jones . xxup rip in my friend 🙏 🏾,xxbos xxmaj what a xxunk written article on my sister @lakers owner @jeaniebuss in the xxup xxunk by xxunk 👏 xxunk : / / t.co / xxunk,xxbos xxmaj have a magical xxunk and xxmaj happy xxmaj new xxmaj year from the xxmaj johnson family ! ! ! https : / / t.co / xxunk\n",
       "y: LMLabelList\n",
       ",,,,\n",
       "Path: .;\n",
       "\n",
       "Valid: LabelList (320 items)\n",
       "x: LMTextList\n",
       "xxbos xxmaj tonight in xxmaj xxunk was life changing for me ! xxmaj the audience at xxmaj the xxmaj one xxmaj forum was made of 1000 people that have xxunk lives . i look forward to helping xxup ceo of xxmaj be the xxmaj match xxmaj dr. xxmaj xxunk xxmaj xxunk xxunk more xxmaj african - xxmaj american xxunk ! https : / / t.co / xxunk,xxbos xxup rt xxup xxunk : xxmaj join @cjbycookie tomorrow xxunk xxup nyc at 5 pm ! https : / / t.co / xxunk,xxbos xxmaj congratulations to all of the award winners and their families !,xxbos xxmaj next month , you could win a xxunk to xxmaj san xxmaj antonio to play on xxup my team in a celebrity basketball game . xxmaj do n't miss your last chance to join the fun – xxunk xxunk is xxmaj march 2 . xxmaj enter for your chance to win . xxmaj for full rules : https : / / t.co / xxunk \n",
       "  # xxunk https : / / t.co / xxunk,xxbos xxmaj thank you to xxunk for helping make @cjbycookie 's birthday special !\n",
       "y: LMLabelList\n",
       ",,,,\n",
       "Path: .;\n",
       "\n",
       "Test: None, model=SequentialRNN(\n",
       "  (0): AWD_LSTM(\n",
       "    (encoder): Embedding(2640, 400, padding_idx=1)\n",
       "    (encoder_dp): EmbeddingDropout(\n",
       "      (emb): Embedding(2640, 400, padding_idx=1)\n",
       "    )\n",
       "    (rnns): ModuleList(\n",
       "      (0): WeightDropout(\n",
       "        (module): LSTM(400, 1152, batch_first=True)\n",
       "      )\n",
       "      (1): WeightDropout(\n",
       "        (module): LSTM(1152, 1152, batch_first=True)\n",
       "      )\n",
       "      (2): WeightDropout(\n",
       "        (module): LSTM(1152, 400, batch_first=True)\n",
       "      )\n",
       "    )\n",
       "    (input_dp): RNNDropout()\n",
       "    (hidden_dps): ModuleList(\n",
       "      (0): RNNDropout()\n",
       "      (1): RNNDropout()\n",
       "      (2): RNNDropout()\n",
       "    )\n",
       "  )\n",
       "  (1): LinearDecoder(\n",
       "    (decoder): Linear(in_features=400, out_features=2640, bias=True)\n",
       "    (output_dp): RNNDropout()\n",
       "  )\n",
       "), opt_func=functools.partial(<class 'torch.optim.adam.Adam'>, betas=(0.9, 0.99)), loss_func=FlattenedLoss of CrossEntropyLoss(), metrics=[<function accuracy at 0x0000027B129238C8>], true_wd=True, bn_wd=True, wd=0.01, train_bn=True, path=WindowsPath('.'), model_dir='models', callback_fns=[functools.partial(<class 'fastai.basic_train.Recorder'>, add_time=True, silent=False)], callbacks=[...], layer_groups=[Sequential(\n",
       "  (0): WeightDropout(\n",
       "    (module): LSTM(400, 1152, batch_first=True)\n",
       "  )\n",
       "  (1): RNNDropout()\n",
       "), Sequential(\n",
       "  (0): WeightDropout(\n",
       "    (module): LSTM(1152, 1152, batch_first=True)\n",
       "  )\n",
       "  (1): RNNDropout()\n",
       "), Sequential(\n",
       "  (0): WeightDropout(\n",
       "    (module): LSTM(1152, 400, batch_first=True)\n",
       "  )\n",
       "  (1): RNNDropout()\n",
       "), Sequential(\n",
       "  (0): Embedding(2640, 400, padding_idx=1)\n",
       "  (1): EmbeddingDropout(\n",
       "    (emb): Embedding(2640, 400, padding_idx=1)\n",
       "  )\n",
       "  (2): LinearDecoder(\n",
       "    (decoder): Linear(in_features=400, out_features=2640, bias=True)\n",
       "    (output_dp): RNNDropout()\n",
       "  )\n",
       ")], add_time=True, silent=False)\n",
       "alpha: 2.0\n",
       "beta: 1.0], layer_groups=[Sequential(\n",
       "  (0): WeightDropout(\n",
       "    (module): LSTM(400, 1152, batch_first=True)\n",
       "  )\n",
       "  (1): RNNDropout()\n",
       "), Sequential(\n",
       "  (0): WeightDropout(\n",
       "    (module): LSTM(1152, 1152, batch_first=True)\n",
       "  )\n",
       "  (1): RNNDropout()\n",
       "), Sequential(\n",
       "  (0): WeightDropout(\n",
       "    (module): LSTM(1152, 400, batch_first=True)\n",
       "  )\n",
       "  (1): RNNDropout()\n",
       "), Sequential(\n",
       "  (0): Embedding(2640, 400, padding_idx=1)\n",
       "  (1): EmbeddingDropout(\n",
       "    (emb): Embedding(2640, 400, padding_idx=1)\n",
       "  )\n",
       "  (2): LinearDecoder(\n",
       "    (decoder): Linear(in_features=400, out_features=2640, bias=True)\n",
       "    (output_dp): RNNDropout()\n",
       "  )\n",
       ")], add_time=True, silent=False)"
      ]
     },
     "execution_count": 29,
     "metadata": {},
     "output_type": "execute_result"
    }
   ],
   "source": [
    "learn.save('tweet_fine_tuned')\n",
    "learn.load('tweet_fine_tuned')"
   ]
  },
  {
   "cell_type": "code",
   "execution_count": 61,
   "metadata": {},
   "outputs": [],
   "source": [
    "TEXT = \"Magic\"\n",
    "N_WORDS = 20\n",
    "N_SENTENCES = 1\n",
    "\n"
   ]
  },
  {
   "cell_type": "code",
   "execution_count": 60,
   "metadata": {},
   "outputs": [
    {
     "name": "stdout",
     "output_type": "stream",
     "text": [
      "My cock was incredible for me , and i enjoyed speaking to my amazing wife at my home . i ’m trying\n"
     ]
    }
   ],
   "source": [
    "print(\"\\n\".join(learn.predict(TEXT, N_WORDS) for _ in range(N_SENTENCES)))"
   ]
  },
  {
   "cell_type": "code",
   "execution_count": null,
   "metadata": {},
   "outputs": [],
   "source": []
  }
 ],
 "metadata": {
  "kernelspec": {
   "display_name": "Python 3",
   "language": "python",
   "name": "python3"
  },
  "language_info": {
   "codemirror_mode": {
    "name": "ipython",
    "version": 3
   },
   "file_extension": ".py",
   "mimetype": "text/x-python",
   "name": "python",
   "nbconvert_exporter": "python",
   "pygments_lexer": "ipython3",
   "version": "3.6.5"
  }
 },
 "nbformat": 4,
 "nbformat_minor": 2
}
